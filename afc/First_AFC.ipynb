{
 "cells": [
  {
   "cell_type": "markdown",
   "id": "62989410",
   "metadata": {},
   "source": [
    "# AFC ---> double ACP"
   ]
  },
  {
   "cell_type": "markdown",
   "id": "9314e416",
   "metadata": {},
   "source": [
    "# importatation des modules et bibliothèques"
   ]
  },
  {
   "cell_type": "code",
   "execution_count": 7,
   "id": "a6073ee9",
   "metadata": {},
   "outputs": [],
   "source": [
    "import numpy as np\n",
    "import pandas as pd\n",
    "import matplotlib.pyplot as plt\n",
    "from scipy.stats.distributions import chi2"
   ]
  },
  {
   "cell_type": "markdown",
   "id": "810e8d49",
   "metadata": {},
   "source": [
    "# definition du dataset"
   ]
  },
  {
   "cell_type": "code",
   "execution_count": 8,
   "id": "bbb2b38a",
   "metadata": {},
   "outputs": [],
   "source": [
    "data = {\n",
    "    \"Chatains\" : [119, 54, 29, 84],\n",
    "    \"Roux\" : [26, 14, 14, 17],\n",
    "    \"Blonds\" : [7, 10, 16, 94]\n",
    "}\n",
    "\n",
    "index = [\"Marrons\", \"Noisette\", \"Verts\", \"Bleus\"]"
   ]
  },
  {
   "cell_type": "markdown",
   "id": "8b20e95c",
   "metadata": {},
   "source": [
    "## Notre dataset met en evidence deux vaiables statistiques:\n",
    "\n",
    "* ***la couleleur des yeux***: nous désignons par **X** cette variable avec les modalités _Marrons, Noisette Verts et Bleus_\n",
    "* ***la couleur des cheveux***: nous désignons par **Y** cette variable avec les modalités _Chatins, Roux et Blonds_\n",
    "\n",
    "Le but est d'analyse la correspondance entre les modalités des deux varibales statistiques.</br>\n",
    "Toute fois cette analyse se fera sur un univers omega qui represente les personne faisant partir de notre échantillons"
   ]
  },
  {
   "cell_type": "code",
   "execution_count": 9,
   "id": "9edbe1a6",
   "metadata": {},
   "outputs": [
    {
     "data": {
      "text/html": [
       "<div>\n",
       "<style scoped>\n",
       "    .dataframe tbody tr th:only-of-type {\n",
       "        vertical-align: middle;\n",
       "    }\n",
       "\n",
       "    .dataframe tbody tr th {\n",
       "        vertical-align: top;\n",
       "    }\n",
       "\n",
       "    .dataframe thead th {\n",
       "        text-align: right;\n",
       "    }\n",
       "</style>\n",
       "<table border=\"1\" class=\"dataframe\">\n",
       "  <thead>\n",
       "    <tr style=\"text-align: right;\">\n",
       "      <th></th>\n",
       "      <th>Chatains</th>\n",
       "      <th>Roux</th>\n",
       "      <th>Blonds</th>\n",
       "    </tr>\n",
       "  </thead>\n",
       "  <tbody>\n",
       "    <tr>\n",
       "      <th>Marrons</th>\n",
       "      <td>119</td>\n",
       "      <td>26</td>\n",
       "      <td>7</td>\n",
       "    </tr>\n",
       "    <tr>\n",
       "      <th>Noisette</th>\n",
       "      <td>54</td>\n",
       "      <td>14</td>\n",
       "      <td>10</td>\n",
       "    </tr>\n",
       "    <tr>\n",
       "      <th>Verts</th>\n",
       "      <td>29</td>\n",
       "      <td>14</td>\n",
       "      <td>16</td>\n",
       "    </tr>\n",
       "    <tr>\n",
       "      <th>Bleus</th>\n",
       "      <td>84</td>\n",
       "      <td>17</td>\n",
       "      <td>94</td>\n",
       "    </tr>\n",
       "  </tbody>\n",
       "</table>\n",
       "</div>"
      ],
      "text/plain": [
       "          Chatains  Roux  Blonds\n",
       "Marrons        119    26       7\n",
       "Noisette        54    14      10\n",
       "Verts           29    14      16\n",
       "Bleus           84    17      94"
      ]
     },
     "execution_count": 9,
     "metadata": {},
     "output_type": "execute_result"
    }
   ],
   "source": [
    "#data frame des donnée\n",
    "df = pd.DataFrame(data, index = index)\n",
    "df"
   ]
  },
  {
   "cell_type": "code",
   "execution_count": 10,
   "id": "0c40b3d2",
   "metadata": {},
   "outputs": [
    {
     "data": {
      "text/plain": [
       "484"
      ]
     },
     "execution_count": 10,
     "metadata": {},
     "output_type": "execute_result"
    }
   ],
   "source": [
    "#effectif total de l'echantillon de la population\n",
    "n = df.sum().sum()\n",
    "n"
   ]
  },
  {
   "cell_type": "code",
   "execution_count": 11,
   "id": "3f474b1e",
   "metadata": {},
   "outputs": [
    {
     "data": {
      "text/plain": [
       "array([[152],\n",
       "       [ 78],\n",
       "       [ 59],\n",
       "       [195]], dtype=int64)"
      ]
     },
     "execution_count": 11,
     "metadata": {},
     "output_type": "execute_result"
    }
   ],
   "source": [
    "#calcule de la somme marginale par ligne\n",
    "L_somme_marginale = df.sum(axis = 1).values.reshape(4, 1)\n",
    "L_somme_marginale"
   ]
  },
  {
   "cell_type": "code",
   "execution_count": 12,
   "id": "47308a3d",
   "metadata": {},
   "outputs": [
    {
     "data": {
      "text/plain": [
       "array([[286],\n",
       "       [ 71],\n",
       "       [127]], dtype=int64)"
      ]
     },
     "execution_count": 12,
     "metadata": {},
     "output_type": "execute_result"
    }
   ],
   "source": [
    "#calcul de la somme marginale par colonne\n",
    "C_somme_marginale = df.sum().values.reshape(3, 1)\n",
    "C_somme_marginale"
   ]
  },
  {
   "cell_type": "markdown",
   "id": "c91f7151",
   "metadata": {},
   "source": [
    "# Mise en oeuvre du test de chi2\n",
    "\n",
    "* **H(0)**: hypothèse nulle --> les deux variables statistiques vue comme des _variable aléatoires_ sous ***l'équiprobabilité*** sont independantes.\n",
    "* **H(1)**: hypothèse alternative --> les deux variables sont dependantes"
   ]
  },
  {
   "cell_type": "code",
   "execution_count": 13,
   "id": "6c588508",
   "metadata": {},
   "outputs": [
    {
     "data": {
      "text/plain": [
       "array([[ 89.81818182,  22.29752066,  39.88429752],\n",
       "       [ 46.09090909,  11.44214876,  20.46694215],\n",
       "       [ 34.86363636,   8.65495868,  15.48140496],\n",
       "       [115.22727273,  28.6053719 ,  51.16735537]])"
      ]
     },
     "execution_count": 13,
     "metadata": {},
     "output_type": "execute_result"
    }
   ],
   "source": [
    "#nouveau tableau des effectifs attendue sous l'hypothèse H(0)\n",
    "df_attendue = np.dot(L_somme_marginale, C_somme_marginale.T)/n\n",
    "df_attendue"
   ]
  },
  {
   "cell_type": "code",
   "execution_count": 14,
   "id": "ff46decd",
   "metadata": {},
   "outputs": [
    {
     "data": {
      "text/plain": [
       "97.82186044949358"
      ]
     },
     "execution_count": 14,
     "metadata": {},
     "output_type": "execute_result"
    }
   ],
   "source": [
    "#calculs des la valeur statistique de test\n",
    "X_square = (np.power((df_attendue-df), 2)/df_attendue).sum().sum()\n",
    "X_square"
   ]
  },
  {
   "cell_type": "code",
   "execution_count": 15,
   "id": "0b8eed6d",
   "metadata": {},
   "outputs": [
    {
     "data": {
      "text/plain": [
       "6"
      ]
     },
     "execution_count": 15,
     "metadata": {},
     "output_type": "execute_result"
    }
   ],
   "source": [
    "#calcul du degré de liberté\n",
    "d = (len(df.sum().values) - 1)*(len(df.sum(1).values) - 1)\n",
    "d"
   ]
  },
  {
   "cell_type": "code",
   "execution_count": 16,
   "id": "b7f39604",
   "metadata": {},
   "outputs": [
    {
     "data": {
      "text/plain": [
       "7.141485105307127e-19"
      ]
     },
     "execution_count": 16,
     "metadata": {},
     "output_type": "execute_result"
    }
   ],
   "source": [
    "#calcule de la p_valeur\n",
    "p_value = chi2.sf(X_square, d)\n",
    "p_value"
   ]
  },
  {
   "cell_type": "code",
   "execution_count": 21,
   "id": "8310b552",
   "metadata": {},
   "outputs": [
    {
     "data": {
      "text/plain": [
       "'hypothèse nulle rejetée donc les variables sont dependantes'"
      ]
     },
     "execution_count": 21,
     "metadata": {},
     "output_type": "execute_result"
    }
   ],
   "source": [
    "test = \"hypothèse nulle admise donc les variables sont independantes\" if (p_value > 0.05) else \"hypothèse nulle rejetée donc les variables sont dependantes\"\n",
    "test"
   ]
  },
  {
   "cell_type": "markdown",
   "id": "db435ad0",
   "metadata": {},
   "source": [
    "* Note: comme les variables _sont dependantes_ (**ou correspondantes**) il en vaut la peine de faire l'**AFC** sur nos données, cette fois pour determiner les correspondances entre les modalités de nos deux variables statistiques"
   ]
  },
  {
   "cell_type": "markdown",
   "id": "d5682aa0",
   "metadata": {},
   "source": [
    "### matrice des frequences"
   ]
  },
  {
   "cell_type": "code",
   "execution_count": 22,
   "id": "c127b17b",
   "metadata": {},
   "outputs": [
    {
     "data": {
      "text/html": [
       "<div>\n",
       "<style scoped>\n",
       "    .dataframe tbody tr th:only-of-type {\n",
       "        vertical-align: middle;\n",
       "    }\n",
       "\n",
       "    .dataframe tbody tr th {\n",
       "        vertical-align: top;\n",
       "    }\n",
       "\n",
       "    .dataframe thead th {\n",
       "        text-align: right;\n",
       "    }\n",
       "</style>\n",
       "<table border=\"1\" class=\"dataframe\">\n",
       "  <thead>\n",
       "    <tr style=\"text-align: right;\">\n",
       "      <th></th>\n",
       "      <th>Chatains</th>\n",
       "      <th>Roux</th>\n",
       "      <th>Blonds</th>\n",
       "    </tr>\n",
       "  </thead>\n",
       "  <tbody>\n",
       "    <tr>\n",
       "      <th>Marrons</th>\n",
       "      <td>0.245868</td>\n",
       "      <td>0.053719</td>\n",
       "      <td>0.014463</td>\n",
       "    </tr>\n",
       "    <tr>\n",
       "      <th>Noisette</th>\n",
       "      <td>0.111570</td>\n",
       "      <td>0.028926</td>\n",
       "      <td>0.020661</td>\n",
       "    </tr>\n",
       "    <tr>\n",
       "      <th>Verts</th>\n",
       "      <td>0.059917</td>\n",
       "      <td>0.028926</td>\n",
       "      <td>0.033058</td>\n",
       "    </tr>\n",
       "    <tr>\n",
       "      <th>Bleus</th>\n",
       "      <td>0.173554</td>\n",
       "      <td>0.035124</td>\n",
       "      <td>0.194215</td>\n",
       "    </tr>\n",
       "  </tbody>\n",
       "</table>\n",
       "</div>"
      ],
      "text/plain": [
       "          Chatains      Roux    Blonds\n",
       "Marrons   0.245868  0.053719  0.014463\n",
       "Noisette  0.111570  0.028926  0.020661\n",
       "Verts     0.059917  0.028926  0.033058\n",
       "Bleus     0.173554  0.035124  0.194215"
      ]
     },
     "execution_count": 22,
     "metadata": {},
     "output_type": "execute_result"
    }
   ],
   "source": [
    "#calcul de la matrice des fréquences\n",
    "F = df/n\n",
    "F"
   ]
  },
  {
   "cell_type": "code",
   "execution_count": 26,
   "id": "3ccc9bee",
   "metadata": {},
   "outputs": [
    {
     "data": {
      "text/plain": [
       "array([[3.18421053, 0.        , 0.        , 0.        ],\n",
       "       [0.        , 6.20512821, 0.        , 0.        ],\n",
       "       [0.        , 0.        , 8.20338983, 0.        ],\n",
       "       [0.        , 0.        , 0.        , 2.48205128]])"
      ]
     },
     "execution_count": 26,
     "metadata": {},
     "output_type": "execute_result"
    }
   ],
   "source": [
    "#cacul de la matrice de poids pour les profils lignes, qui represente aussi la metrique pour les profils colonnes\n",
    "DK = np.diag(L_somme_marginale.T[0]/n)\n",
    "DK_inv = np.linalg.inv(DK)\n",
    "DK_inv"
   ]
  },
  {
   "cell_type": "code",
   "execution_count": 27,
   "id": "bbb9f8d5",
   "metadata": {},
   "outputs": [
    {
     "data": {
      "text/plain": [
       "array([[1.69230769, 0.        , 0.        ],\n",
       "       [0.        , 6.81690141, 0.        ],\n",
       "       [0.        , 0.        , 3.81102362]])"
      ]
     },
     "execution_count": 27,
     "metadata": {},
     "output_type": "execute_result"
    }
   ],
   "source": [
    "# calcule de le matrice des poids pour les profils colonnes, qui represente aussi la metrique des pour les profils lignes\n",
    "DL = np.diag(C_somme_marginale.T[0]/n)\n",
    "DL_inv = np.linalg.inv(DL)\n",
    "DL_inv"
   ]
  },
  {
   "cell_type": "markdown",
   "id": "4d54305c",
   "metadata": {},
   "source": [
    "## Etude sur les profils ligne: premier ACP --> lignes"
   ]
  },
  {
   "cell_type": "code",
   "execution_count": 28,
   "id": "21879021",
   "metadata": {},
   "outputs": [
    {
     "data": {
      "text/plain": [
       "array([[0.78289474, 0.17105263, 0.04605263],\n",
       "       [0.69230769, 0.17948718, 0.12820513],\n",
       "       [0.49152542, 0.23728814, 0.27118644],\n",
       "       [0.43076923, 0.08717949, 0.48205128]])"
      ]
     },
     "execution_count": 28,
     "metadata": {},
     "output_type": "execute_result"
    }
   ],
   "source": [
    "# calcul de la matrice des profils lignes\n",
    "L = np.dot(DK_inv, F)\n",
    "L"
   ]
  },
  {
   "cell_type": "markdown",
   "id": "7575f031",
   "metadata": {},
   "source": [
    "* calcuel des **distances** entre quelques lignes"
   ]
  },
  {
   "cell_type": "code",
   "execution_count": 29,
   "id": "a0d31db0",
   "metadata": {},
   "outputs": [
    {
     "data": {
      "text/plain": [
       "array([[1.14902944]])"
      ]
     },
     "execution_count": 29,
     "metadata": {},
     "output_type": "execute_result"
    }
   ],
   "source": [
    "#ligne 1 et 2\n",
    "chi2_L1_L2 = np.dot(np.dot(L[0,:].reshape(3,1).T, DL_inv), L[1, :].reshape(3,1))\n",
    "chi2_L1_L2"
   ]
  },
  {
   "cell_type": "code",
   "execution_count": 30,
   "id": "5cb6db1d",
   "metadata": {},
   "outputs": [
    {
     "data": {
      "text/plain": [
       "array([[0.97550631]])"
      ]
     },
     "execution_count": 30,
     "metadata": {},
     "output_type": "execute_result"
    }
   ],
   "source": [
    "#ligne 1 et 3\n",
    "chi2_L1_L3 = np.dot(np.dot(L[0,:].reshape(3,1).T, DL_inv), L[2, :].reshape(3,1))\n",
    "chi2_L1_L3"
   ]
  },
  {
   "cell_type": "code",
   "execution_count": 31,
   "id": "62a67dce",
   "metadata": {},
   "outputs": [
    {
     "data": {
      "text/plain": [
       "array([[0.75698487]])"
      ]
     },
     "execution_count": 31,
     "metadata": {},
     "output_type": "execute_result"
    }
   ],
   "source": [
    "#ligne 1 et 4\n",
    "chi2_L1_L4 = np.dot(np.dot(L[0,:].reshape(3,1).T, DL_inv), L[3, :].reshape(3,1))\n",
    "chi2_L1_L4"
   ]
  },
  {
   "cell_type": "code",
   "execution_count": 32,
   "id": "8eb38ea3",
   "metadata": {},
   "outputs": [
    {
     "data": {
      "text/plain": [
       "array([[0.59090909],\n",
       "       [0.14669421],\n",
       "       [0.26239669]])"
      ]
     },
     "execution_count": 32,
     "metadata": {},
     "output_type": "execute_result"
    }
   ],
   "source": [
    "#ligne moyenne des profils lignes\n",
    "L_means = C_somme_marginale/n\n",
    "L_means"
   ]
  },
  {
   "cell_type": "code",
   "execution_count": 34,
   "id": "353f0e46",
   "metadata": {},
   "outputs": [
    {
     "data": {
      "text/plain": [
       "array([[ 0.19198565,  0.02435842, -0.21634406],\n",
       "       [ 0.1013986 ,  0.03279296, -0.13419157],\n",
       "       [-0.09938367,  0.09059392,  0.00878975],\n",
       "       [-0.16013986, -0.05951473,  0.21965459]])"
      ]
     },
     "execution_count": 34,
     "metadata": {},
     "output_type": "execute_result"
    }
   ],
   "source": [
    "# matrice des profils lignes centré\n",
    "Lc = L - np.dot(np.ones((4,1)), L_means.T)\n",
    "Lc"
   ]
  },
  {
   "cell_type": "code",
   "execution_count": 37,
   "id": "1b68840e",
   "metadata": {},
   "outputs": [
    {
     "data": {
      "text/plain": [
       "array([[ 0.32584176, -0.01468014, -0.31116162],\n",
       "       [-0.01468014,  0.08468093, -0.07000079],\n",
       "       [-0.31116162, -0.07000079,  0.38116241]])"
      ]
     },
     "execution_count": 37,
     "metadata": {},
     "output_type": "execute_result"
    }
   ],
   "source": [
    "#matrice de variances covariances de notre suivant les trois colonnes de la matrice Lc sous la metrique des poids\n",
    "S_square_row = np.dot(np.dot(Lc.T, DK_inv), Lc)\n",
    "S_square_row"
   ]
  },
  {
   "cell_type": "code",
   "execution_count": 38,
   "id": "0f0f78e4",
   "metadata": {},
   "outputs": [
    {
     "data": {
      "text/plain": [
       "array([[ 0.55142452, -0.10007307, -1.18584429],\n",
       "       [-0.02484332,  0.57726155, -0.26677466],\n",
       "       [-0.52658121, -0.47718848,  1.45261895]])"
      ]
     },
     "execution_count": 38,
     "metadata": {},
     "output_type": "execute_result"
    }
   ],
   "source": [
    "# calcul de la matrice SM dont on utlisera les valeurs propres\n",
    "SM_row = np.dot(S_square_row, DL_inv).astype(float)\n",
    "SM_row\n"
   ]
  },
  {
   "cell_type": "code",
   "execution_count": 39,
   "id": "6ed4401d",
   "metadata": {},
   "outputs": [],
   "source": [
    "#calculs des valeurs et vecteurs propres\n",
    "egenvalues, egenvectors = np.linalg.eig(SM_row)"
   ]
  },
  {
   "cell_type": "code",
   "execution_count": 40,
   "id": "7f7049d1",
   "metadata": {},
   "outputs": [
    {
     "data": {
      "text/plain": [
       "array([1.97046735e+00, 4.37715017e-18, 6.10837679e-01])"
      ]
     },
     "execution_count": 40,
     "metadata": {},
     "output_type": "execute_result"
    }
   ],
   "source": [
    "#affichage des valeurs propres\n",
    "egenvalues"
   ]
  },
  {
   "cell_type": "code",
   "execution_count": 26,
   "id": "8c7b9f08",
   "metadata": {},
   "outputs": [
    {
     "data": {
      "text/plain": [
       "array([[-0.62971444,  0.89129016,  0.69375882],\n",
       "       [-0.13524809,  0.22126434, -0.71973867],\n",
       "       [ 0.76496253,  0.39578269,  0.02597985]])"
      ]
     },
     "execution_count": 26,
     "metadata": {},
     "output_type": "execute_result"
    }
   ],
   "source": [
    "#afficharges des vecteurs propres associés\n",
    "egenvectors"
   ]
  },
  {
   "cell_type": "markdown",
   "id": "1f33185c",
   "metadata": {},
   "source": [
    "* Nos Vecteur propres ne sont pas classés dans **l'ondre decroissante**, d'où un nécessité de les classer dans cet ordre"
   ]
  },
  {
   "cell_type": "code",
   "execution_count": 41,
   "id": "79d855a7",
   "metadata": {},
   "outputs": [],
   "source": [
    "egenvalues, egenvectors = np.linalg.eig(SM_row)\n",
    "ind = np.argsort(egenvalues)[::-1]               #recuperation des indice dans l'ordre decroissante des valeurs propres\n",
    "egenvalues = egenvalues[ind]                     #adaptation de l'odre décroissantes à nos valeurs propres\n",
    "egenvectors = egenvectors[:, ind]                #adaptation de l'odre décroissantes à nos vecteurs propres propres"
   ]
  },
  {
   "cell_type": "code",
   "execution_count": 42,
   "id": "1402afe9",
   "metadata": {},
   "outputs": [
    {
     "data": {
      "text/plain": [
       "array([1.97046735e+00, 6.10837679e-01, 4.37715017e-18])"
      ]
     },
     "execution_count": 42,
     "metadata": {},
     "output_type": "execute_result"
    }
   ],
   "source": [
    "#affichage des valeurs prores avec le nouvel ordre \n",
    "egenvalues"
   ]
  },
  {
   "cell_type": "code",
   "execution_count": 44,
   "id": "05d20889",
   "metadata": {},
   "outputs": [
    {
     "data": {
      "text/plain": [
       "array([[-0.62971444,  0.69375882,  0.89129016],\n",
       "       [-0.13524809, -0.71973867,  0.22126434],\n",
       "       [ 0.76496253,  0.02597985,  0.39578269]])"
      ]
     },
     "execution_count": 44,
     "metadata": {},
     "output_type": "execute_result"
    }
   ],
   "source": [
    "#affichage des vecteurs prores avec le nouvel ordre\n",
    "U_row = egenvectors\n",
    "U_row"
   ]
  },
  {
   "cell_type": "markdown",
   "id": "057f5592",
   "metadata": {},
   "source": [
    "* Nos vecteurs propres ne sont pas **DL_inv** (qui represente notre ***matrique*** ici) normé d'où une nécessité de les les normer."
   ]
  },
  {
   "cell_type": "code",
   "execution_count": 45,
   "id": "f16956c1",
   "metadata": {},
   "outputs": [
    {
     "data": {
      "text/plain": [
       "array([[-0.36200943],\n",
       "       [-0.07775125],\n",
       "       [ 0.43976067]])"
      ]
     },
     "execution_count": 45,
     "metadata": {},
     "output_type": "execute_result"
    }
   ],
   "source": [
    "#cas du vecteur 1\n",
    "U1 = U_row[:, 0].reshape(3,1)\n",
    "U1_norm = U1/np.sqrt(np.dot(U1.T, np.dot(DL_inv, U1)))\n",
    "U1_norm"
   ]
  },
  {
   "cell_type": "code",
   "execution_count": 46,
   "id": "67dbdbc1",
   "metadata": {},
   "outputs": [
    {
     "data": {
      "text/plain": [
       "array([[ 0.33269312],\n",
       "       [-0.3451518 ],\n",
       "       [ 0.01245868]])"
      ]
     },
     "execution_count": 46,
     "metadata": {},
     "output_type": "execute_result"
    }
   ],
   "source": [
    "#cas du vecteur 2\n",
    "U2 = U_row[:, 1].reshape(3,1)\n",
    "U2_norm = U2/np.sqrt(np.dot(U2.T, np.dot(DL_inv, U2)))\n",
    "U2_norm"
   ]
  },
  {
   "cell_type": "code",
   "execution_count": 47,
   "id": "5d8f96ba",
   "metadata": {},
   "outputs": [
    {
     "data": {
      "text/plain": [
       "array([[-0.36200943],\n",
       "       [-0.07775125],\n",
       "       [ 0.43976067]])"
      ]
     },
     "execution_count": 47,
     "metadata": {},
     "output_type": "execute_result"
    }
   ],
   "source": [
    "#cas du vecteur 3\n",
    "U3 = U_row[:, 0].reshape(3,1)\n",
    "U3_norm = U3/np.sqrt(np.dot(U3.T, np.dot(DL_inv, U3)))\n",
    "U3_norm"
   ]
  },
  {
   "cell_type": "code",
   "execution_count": 48,
   "id": "7b90d1c3",
   "metadata": {},
   "outputs": [
    {
     "data": {
      "text/plain": [
       "array([[-0.36200943,  0.33269312, -0.36200943],\n",
       "       [-0.07775125, -0.3451518 , -0.07775125],\n",
       "       [ 0.43976067,  0.01245868,  0.43976067]])"
      ]
     },
     "execution_count": 48,
     "metadata": {},
     "output_type": "execute_result"
    }
   ],
   "source": [
    "#recuperation des vecteur normés dans une matrice, dite matrice des vecteurs propres que nous allons utiliser dans la suite\n",
    "data1 = {\n",
    "    \"U1\": U1_norm.T[0],\n",
    "    \"U2\": U2_norm.T[0],\n",
    "    \"U3\": U3_norm.T[0]\n",
    "}\n",
    "\n",
    "U_norm_row = pd.DataFrame(data1).to_numpy()\n",
    "U_norm_row"
   ]
  },
  {
   "cell_type": "code",
   "execution_count": 49,
   "id": "5125a574",
   "metadata": {},
   "outputs": [
    {
     "data": {
      "text/plain": [
       "array([[-0.49310624,  0.04050742, -0.49310624],\n",
       "       [-0.30439776, -0.02643955, -0.30439776],\n",
       "       [ 0.0275998 , -0.2686929 ,  0.0275998 ],\n",
       "       [ 0.49777839,  0.06029763,  0.49777839]])"
      ]
     },
     "execution_count": 49,
     "metadata": {},
     "output_type": "execute_result"
    }
   ],
   "source": [
    "#matrices des nouvelles lignes ou matrices des composantes principales après projection des individus suivant la matrice U\n",
    "C_row = np.dot(np.dot(Lc , np.linalg.inv(DL)), U_norm_row)\n",
    "C_row"
   ]
  },
  {
   "cell_type": "markdown",
   "id": "b94825ff",
   "metadata": {},
   "source": [
    "## Etude sur les profils colonnes: deuxième ACP --> colonne"
   ]
  },
  {
   "cell_type": "code",
   "execution_count": 50,
   "id": "ef22e0c0",
   "metadata": {},
   "outputs": [
    {
     "data": {
      "text/plain": [
       "array([[0.31404959],\n",
       "       [0.16115702],\n",
       "       [0.12190083],\n",
       "       [0.40289256]])"
      ]
     },
     "execution_count": 50,
     "metadata": {},
     "output_type": "execute_result"
    }
   ],
   "source": [
    "# calcule de la colonne moyenne des profils colonnes\n",
    "C_means = L_somme_marginale/n\n",
    "C_means"
   ]
  },
  {
   "cell_type": "code",
   "execution_count": 51,
   "id": "e15d594b",
   "metadata": {},
   "outputs": [
    {
     "data": {
      "text/plain": [
       "array([[0.41608392, 0.18881119, 0.1013986 , 0.29370629],\n",
       "       [0.36619718, 0.1971831 , 0.1971831 , 0.23943662],\n",
       "       [0.05511811, 0.07874016, 0.12598425, 0.74015748]])"
      ]
     },
     "execution_count": 51,
     "metadata": {},
     "output_type": "execute_result"
    }
   ],
   "source": [
    "#matrices des des profils colonnes\n",
    "C = np.dot(DL_inv, F.T)\n",
    "C"
   ]
  },
  {
   "cell_type": "code",
   "execution_count": 52,
   "id": "33238adc",
   "metadata": {},
   "outputs": [
    {
     "data": {
      "text/plain": [
       "array([[ 0.10203433,  0.02765416, -0.02050223, -0.10918627],\n",
       "       [ 0.0521476 ,  0.03602607,  0.07528227, -0.16345594],\n",
       "       [-0.25893148, -0.08241687,  0.00408343,  0.33726492]])"
      ]
     },
     "execution_count": 52,
     "metadata": {},
     "output_type": "execute_result"
    }
   ],
   "source": [
    "#calcul de la matrice centrée des profils colonnes\n",
    "Cc = C - np.dot(np.ones((3, 1)), C_means.T)\n",
    "Cc"
   ]
  },
  {
   "cell_type": "code",
   "execution_count": 53,
   "id": "fb7e2237",
   "metadata": {},
   "outputs": [
    {
     "data": {
      "text/plain": [
       "array([[ 0.29166833,  0.09891034,  0.01919203, -0.4097707 ],\n",
       "       [ 0.09891034,  0.03602823,  0.01624622, -0.15118479],\n",
       "       [ 0.01919203,  0.01624622,  0.03940914, -0.07484739],\n",
       "       [-0.4097707 , -0.15118479, -0.07484739,  0.63580289]])"
      ]
     },
     "execution_count": 53,
     "metadata": {},
     "output_type": "execute_result"
    }
   ],
   "source": [
    "#matrice des variances covariances pour les profils colonnes\n",
    "S_square_column = np.dot(Cc.T, np.dot(DL_inv, Cc))\n",
    "S_square_column"
   ]
  },
  {
   "cell_type": "code",
   "execution_count": 56,
   "id": "2278253c",
   "metadata": {},
   "outputs": [
    {
     "data": {
      "text/plain": [
       "array([[ 0.92873338,  0.61375133,  0.1574397 , -1.01707189],\n",
       "       [ 0.31495134,  0.22355981,  0.13327409, -0.37524841],\n",
       "       [ 0.06111146,  0.10080989,  0.32328854, -0.18577506],\n",
       "       [-1.30479618, -0.93812103, -0.61400233,  1.57809537]])"
      ]
     },
     "execution_count": 56,
     "metadata": {},
     "output_type": "execute_result"
    }
   ],
   "source": [
    "#matrice SM donc on va utiliser les vecteurs propres\n",
    "SM_column = np.dot(S_square_column, DK_inv)\n",
    "SM_column"
   ]
  },
  {
   "cell_type": "code",
   "execution_count": 58,
   "id": "d6064ea1",
   "metadata": {},
   "outputs": [],
   "source": [
    "#ici on calcul et on classe les vecteurs propres dans l'ordre decroissante des valeurs propres\n",
    "egenvalues_column, egenvectors_column = np.linalg.eig(SM_column)\n",
    "ind = np.argsort(egenvalues_column)[::-1]\n",
    "egenvalues_column = egenvalues_column[ind]\n",
    "egenvectors_column = egenvectors_column[:, ind]"
   ]
  },
  {
   "cell_type": "code",
   "execution_count": 59,
   "id": "ef1e5195",
   "metadata": {},
   "outputs": [
    {
     "data": {
      "text/plain": [
       "array([[-0.53676886, -0.58250506, -0.73172504, -0.15937124],\n",
       "       [-0.19472211,  0.01239869,  0.47251914,  0.90390375],\n",
       "       [-0.08504436,  0.78406395, -0.25150173, -0.02405787],\n",
       "       [ 0.81653533, -0.21395758, -0.4219609 ,  0.39620707]])"
      ]
     },
     "execution_count": 59,
     "metadata": {},
     "output_type": "execute_result"
    }
   ],
   "source": [
    "#affichage de  la matrice  des vecteurs propres\n",
    "U_column = egenvectors_column\n",
    "U_column"
   ]
  },
  {
   "cell_type": "markdown",
   "id": "b9400125",
   "metadata": {},
   "source": [
    "* Une fois de plus nos vecteurs propres ne sont pas **DK_inv** (qui represente ici la ***metrique***) normés d'où une nécessité de le faire"
   ]
  },
  {
   "cell_type": "code",
   "execution_count": 60,
   "id": "cc365a6a",
   "metadata": {},
   "outputs": [
    {
     "data": {
      "text/plain": [
       "array([[-0.31701564],\n",
       "       [-0.11500286],\n",
       "       [-0.05022719],\n",
       "       [ 0.4822457 ]])"
      ]
     },
     "execution_count": 60,
     "metadata": {},
     "output_type": "execute_result"
    }
   ],
   "source": [
    "#cas du vecteur 1\n",
    "U_1 = U_column[:, 0].reshape(4,1)\n",
    "U_1_norm = U_1/np.sqrt(np.dot(U_1.T, np.dot(DK_inv, U_1)))\n",
    "U_1_norm"
   ]
  },
  {
   "cell_type": "code",
   "execution_count": 67,
   "id": "4935b6d3",
   "metadata": {},
   "outputs": [
    {
     "data": {
      "text/plain": [
       "array([[-0.23322409],\n",
       "       [ 0.0049642 ],\n",
       "       [ 0.31392449],\n",
       "       [-0.0856646 ]])"
      ]
     },
     "execution_count": 67,
     "metadata": {},
     "output_type": "execute_result"
    }
   ],
   "source": [
    "#cas du vecteur 3\n",
    "U_2 = U_column[:, 1].reshape(4,1)\n",
    "U_2_norm = U_2/np.sqrt(np.dot(U_2.T, np.dot(DK_inv, U_2)))\n",
    "U_2_norm"
   ]
  },
  {
   "cell_type": "code",
   "execution_count": 68,
   "id": "be2c83a6",
   "metadata": {},
   "outputs": [
    {
     "data": {
      "text/plain": [
       "array([[-0.36354492],\n",
       "       [ 0.23476296],\n",
       "       [-0.12495428],\n",
       "       [-0.20964397]])"
      ]
     },
     "execution_count": 68,
     "metadata": {},
     "output_type": "execute_result"
    }
   ],
   "source": [
    "#cas du vecteur 3\n",
    "U_3 = U_column[:, 2].reshape(4,1)\n",
    "U_3_norm = U_3/np.sqrt(np.dot(U_3.T, np.dot(DK_inv, U_3)))\n",
    "U_3_norm"
   ]
  },
  {
   "cell_type": "code",
   "execution_count": 69,
   "id": "551e96fe",
   "metadata": {},
   "outputs": [
    {
     "data": {
      "text/plain": [
       "array([[-0.06767916],\n",
       "       [ 0.38385501],\n",
       "       [-0.0102165 ],\n",
       "       [ 0.16825472]])"
      ]
     },
     "execution_count": 69,
     "metadata": {},
     "output_type": "execute_result"
    }
   ],
   "source": [
    "#cas du vecteur 4\n",
    "U_4 = U_column[:, 3].reshape(4,1)\n",
    "U_4_norm = U_4/np.sqrt(np.dot(U_4.T, np.dot(DK_inv, U_4)))\n",
    "U_4_norm"
   ]
  },
  {
   "cell_type": "code",
   "execution_count": 70,
   "id": "2233a6fe",
   "metadata": {},
   "outputs": [
    {
     "data": {
      "text/plain": [
       "array([[-0.31701564, -0.23322409, -0.06767916],\n",
       "       [-0.11500286,  0.0049642 ,  0.38385501],\n",
       "       [-0.05022719,  0.31392449, -0.0102165 ],\n",
       "       [ 0.4822457 , -0.0856646 ,  0.16825472]])"
      ]
     },
     "execution_count": 70,
     "metadata": {},
     "output_type": "execute_result"
    }
   ],
   "source": [
    "#recuperation de nos vecteurs propres dans une matrice noté U_norm_column\n",
    "data2 = {\n",
    "    \"U1\": U_1_norm.T[0],\n",
    "    \"U2\": U_2_norm.T[0],\n",
    "    \"U3\": U_3_norm.T[0],\n",
    "    \"U3\": U_4_norm.T[0]\n",
    "}\n",
    "\n",
    "U_norm_column = pd.DataFrame(data2).to_numpy()\n",
    "U_norm_column"
   ]
  },
  {
   "cell_type": "code",
   "execution_count": 71,
   "id": "771d5006",
   "metadata": {},
   "outputs": [
    {
     "data": {
      "text/plain": [
       "array([[-2.44976055e-01, -1.04505019e-01,  2.42861287e-17],\n",
       "       [-3.05017370e-01,  1.91008055e-01,  9.71445147e-17],\n",
       "       [ 7.22199882e-01,  1.28557979e-01, -1.31838984e-16]])"
      ]
     },
     "execution_count": 71,
     "metadata": {},
     "output_type": "execute_result"
    }
   ],
   "source": [
    "C_column = np.dot(Cc, np.dot(DK_inv, U_norm_column))\n",
    "C_column"
   ]
  },
  {
   "cell_type": "markdown",
   "id": "deef37c9",
   "metadata": {},
   "source": [
    "# Representation des deux profils"
   ]
  },
  {
   "cell_type": "code",
   "execution_count": 81,
   "id": "4e1bc575",
   "metadata": {},
   "outputs": [
    {
     "data": {
      "image/png": "[encoded data removed]",
      "text/plain": [
       "<Figure size 432x288 with 1 Axes>"
      ]
     },
     "metadata": {
      "needs_background": "light"
     },
     "output_type": "display_data"
    }
   ],
   "source": [
    "legend = [\"couleur des yeux\", \"couleurs des checeux\"]\n",
    "index1 = [\"Marrons\", \"Noisette\", \"Verts\", \"Bleus\"]\n",
    "index2 = [\"Chatains\", \"Roux\", \"Blonds\"]\n",
    "\n",
    "#nuage des points annotés du profils ligne\n",
    "plt.scatter(C_row[:,0], C_row[:,1], marker = \"D\")\n",
    "for i, x, y in zip(index, C_row[:,0], C_row[:,1]):\n",
    "    plt.text(x, y, i, fontsize = 17, c = 'blue')\n",
    "\n",
    "#nuage des points annotés du profils colonnes\n",
    "plt.scatter(C_column[:,0], C_column[:,1], marker = \"s\")\n",
    "for i, x, y in zip(index2, C_column[:,0], C_column[:,1]):\n",
    "    plt.text(x, y, i, fontsize = 15, c = \"orange\")\n",
    "\n",
    "plt.title(\"AFC Presentation\", fontsize = 25, fontweight = 'bold', color = 'green')\n",
    "plt.legend(legend)\n",
    "plt.show()"
   ]
  },
  {
   "cell_type": "markdown",
   "id": "04e88597",
   "metadata": {},
   "source": [
    "### Au vue des distance entre les points, nous pouvons dire que:\n",
    "\n",
    "* --> Les individus aux yeux bleus correspondent plus aux individus aux cheveux blonds\n",
    "\n",
    "* --> Les individus aux yeux noisettes correspondent plus aux individus aux cheveux Chatains\n",
    "\n",
    "* --> Les individus aux yeux Marrons et Verts n'ont pas une correspondance fiable\n",
    "\n",
    "* --> Les individus aux cheveux Roux n'ont pas une correspondance fiable"
   ]
  }
 ],
 "metadata": {
  "kernelspec": {
   "display_name": "Python 3 (ipykernel)",
   "language": "python",
   "name": "python3"
  },
  "language_info": {
   "codemirror_mode": {
    "name": "ipython",
    "version": 3
   },
   "file_extension": ".py",
   "mimetype": "text/x-python",
   "name": "python",
   "nbconvert_exporter": "python",
   "pygments_lexer": "ipython3",
   "version": "3.9.12"
  }
 },
 "nbformat": 4,
 "nbformat_minor": 5
}
